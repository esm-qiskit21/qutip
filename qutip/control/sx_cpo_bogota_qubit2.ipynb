{
 "cells": [
  {
   "cell_type": "code",
   "execution_count": 1,
   "metadata": {},
   "outputs": [],
   "source": [
    "import warnings\n",
    "warnings.filterwarnings('ignore')"
   ]
  },
  {
   "cell_type": "code",
   "execution_count": 2,
   "metadata": {},
   "outputs": [],
   "source": [
    "%matplotlib inline\n",
    "import numpy as np\n",
    "import qiskit\n",
    "from qiskit import QuantumCircuit, transpile, Aer, IBMQ, QuantumRegister\n",
    "from qiskit.tools.jupyter import *\n",
    "from qiskit.visualization import *\n",
    "from ibm_quantum_widgets import *\n",
    "from qiskit import pulse,schedule\n",
    "from qiskit.pulse import Schedule"
   ]
  },
  {
   "cell_type": "code",
   "execution_count": 3,
   "metadata": {},
   "outputs": [],
   "source": [
    "import matplotlib.pyplot as plt\n",
    "import datetime\n",
    "from qutip import Qobj, identity, sigmax, sigmay, sigmaz, sigmam, tensor\n",
    "from qutip.superoperator import liouvillian, sprepost\n",
    "from qutip.qip import hadamard_transform\n",
    "from qutip.qip.operations.gates import rx,sqrtnot\n",
    "import qutip.logging_utils as logging\n",
    "logger = logging.get_logger()\n",
    "#Set this to None or logging.WARN for 'quiet' execution\n",
    "log_level = logging.INFO\n",
    "#QuTiP control modules\n",
    "import qutip.control.pulseoptim as cpo"
   ]
  },
  {
   "cell_type": "markdown",
   "metadata": {},
   "source": [
    "importing the Hamiltonian parameters from qiskit"
   ]
  },
  {
   "cell_type": "code",
   "execution_count": 4,
   "metadata": {},
   "outputs": [
    {
     "name": "stderr",
     "output_type": "stream",
     "text": [
      "/Users/elishasiddiqui/.conda/envs/qutip_clone_test/lib/python3.8/site-packages/ipykernel/ipkernel.py:287: DeprecationWarning: `should_run_async` will not call `transform_cell` automatically in the future. Please pass the result to `transformed_cell` argument and any exception that happen during thetransform in `preprocessing_exc_tuple` in IPython 7.17 and above.\n",
      "  and should_run_async(code)\n"
     ]
    }
   ],
   "source": [
    "token= '023f373dc54c121ed029051e578c1c639af5bb83bbd20f56acdbbdfae0faf3782ff72329750d32853370939170a2ddf7785f1f31550186921b0351abf7cdb128'\n",
    "provider = IBMQ.enable_account(token,hub='ibm-q-bnl', group='bnl-non-c2qa-pro', project='physics-guided-o')"
   ]
  },
  {
   "cell_type": "code",
   "execution_count": 5,
   "metadata": {},
   "outputs": [
    {
     "name": "stderr",
     "output_type": "stream",
     "text": [
      "/Users/elishasiddiqui/.conda/envs/qutip_clone_test/lib/python3.8/site-packages/ipykernel/ipkernel.py:287: DeprecationWarning: `should_run_async` will not call `transform_cell` automatically in the future. Please pass the result to `transformed_cell` argument and any exception that happen during thetransform in `preprocessing_exc_tuple` in IPython 7.17 and above.\n",
      "  and should_run_async(code)\n"
     ]
    }
   ],
   "source": [
    "backend = provider.get_backend('ibmq_bogota')"
   ]
  },
  {
   "cell_type": "code",
   "execution_count": 6,
   "metadata": {},
   "outputs": [
    {
     "name": "stderr",
     "output_type": "stream",
     "text": [
      "/Users/elishasiddiqui/.conda/envs/qutip_clone_test/lib/python3.8/site-packages/ipykernel/ipkernel.py:287: DeprecationWarning: `should_run_async` will not call `transform_cell` automatically in the future. Please pass the result to `transformed_cell` argument and any exception that happen during thetransform in `preprocessing_exc_tuple` in IPython 7.17 and above.\n",
      "  and should_run_async(code)\n"
     ]
    }
   ],
   "source": [
    "backend_defaults = backend.defaults(backend)\n",
    "backend_config = backend.configuration()\n",
    "assert backend_config.open_pulse, \"Backend doesn't support Pulse\""
   ]
  },
  {
   "cell_type": "code",
   "execution_count": 7,
   "metadata": {},
   "outputs": [
    {
     "name": "stderr",
     "output_type": "stream",
     "text": [
      "/Users/elishasiddiqui/.conda/envs/qutip_clone_test/lib/python3.8/site-packages/ipykernel/ipkernel.py:287: DeprecationWarning: `should_run_async` will not call `transform_cell` automatically in the future. Please pass the result to `transformed_cell` argument and any exception that happen during thetransform in `preprocessing_exc_tuple` in IPython 7.17 and above.\n",
      "  and should_run_async(code)\n"
     ]
    }
   ],
   "source": [
    "props = backend.properties()"
   ]
  },
  {
   "cell_type": "code",
   "execution_count": 8,
   "metadata": {},
   "outputs": [
    {
     "name": "stderr",
     "output_type": "stream",
     "text": [
      "/Users/elishasiddiqui/.conda/envs/qutip_clone_test/lib/python3.8/site-packages/ipykernel/ipkernel.py:287: DeprecationWarning: `should_run_async` will not call `transform_cell` automatically in the future. Please pass the result to `transformed_cell` argument and any exception that happen during thetransform in `preprocessing_exc_tuple` in IPython 7.17 and above.\n",
      "  and should_run_async(code)\n"
     ]
    }
   ],
   "source": [
    "# unit conversion factors -> all backend properties returned in SI (Hz, sec, etc)\n",
    "GHz = 1.0e9 # Gigahertz\n",
    "MHz = 1.0e6 # Megahertz\n",
    "us = 1.0e-6 # Microseconds\n",
    "ns = 1.0e-9 # Nanoseconds\n"
   ]
  },
  {
   "cell_type": "code",
   "execution_count": 9,
   "metadata": {},
   "outputs": [
    {
     "name": "stderr",
     "output_type": "stream",
     "text": [
      "/Users/elishasiddiqui/.conda/envs/qutip_clone_test/lib/python3.8/site-packages/ipykernel/ipkernel.py:287: DeprecationWarning: `should_run_async` will not call `transform_cell` automatically in the future. Please pass the result to `transformed_cell` argument and any exception that happen during thetransform in `preprocessing_exc_tuple` in IPython 7.17 and above.\n",
      "  and should_run_async(code)\n"
     ]
    }
   ],
   "source": [
    "qubit = 2"
   ]
  },
  {
   "cell_type": "code",
   "execution_count": 10,
   "metadata": {},
   "outputs": [
    {
     "name": "stderr",
     "output_type": "stream",
     "text": [
      "/Users/elishasiddiqui/.conda/envs/qutip_clone_test/lib/python3.8/site-packages/ipykernel/ipkernel.py:287: DeprecationWarning: `should_run_async` will not call `transform_cell` automatically in the future. Please pass the result to `transformed_cell` argument and any exception that happen during thetransform in `preprocessing_exc_tuple` in IPython 7.17 and above.\n",
      "  and should_run_async(code)\n"
     ]
    }
   ],
   "source": [
    "w0 = backend_defaults.qubit_freq_est[qubit]/GHz"
   ]
  },
  {
   "cell_type": "code",
   "execution_count": 11,
   "metadata": {},
   "outputs": [
    {
     "name": "stderr",
     "output_type": "stream",
     "text": [
      "/Users/elishasiddiqui/.conda/envs/qutip_clone_test/lib/python3.8/site-packages/ipykernel/ipkernel.py:287: DeprecationWarning: `should_run_async` will not call `transform_cell` automatically in the future. Please pass the result to `transformed_cell` argument and any exception that happen during thetransform in `preprocessing_exc_tuple` in IPython 7.17 and above.\n",
      "  and should_run_async(code)\n"
     ]
    }
   ],
   "source": [
    "#The Hamiltoninan model\n",
    "Sx = sigmax()\n",
    "Sy = sigmay()\n",
    "Sz = sigmaz()\n",
    "Sm = sigmam()\n",
    "Si = identity(2)\n",
    "\n",
    "sx_gate = sqrtnot()"
   ]
  },
  {
   "cell_type": "code",
   "execution_count": 12,
   "metadata": {},
   "outputs": [
    {
     "name": "stderr",
     "output_type": "stream",
     "text": [
      "/Users/elishasiddiqui/.conda/envs/qutip_clone_test/lib/python3.8/site-packages/ipykernel/ipkernel.py:287: DeprecationWarning: `should_run_async` will not call `transform_cell` automatically in the future. Please pass the result to `transformed_cell` argument and any exception that happen during thetransform in `preprocessing_exc_tuple` in IPython 7.17 and above.\n",
      "  and should_run_async(code)\n"
     ]
    }
   ],
   "source": [
    "H0 = 0.5*w0*Sz\n",
    "Hc = [Sx]#,Sy,Sz]"
   ]
  },
  {
   "cell_type": "code",
   "execution_count": null,
   "metadata": {},
   "outputs": [],
   "source": [
    "t1 = props.t1(qubit)\n",
    "t2 = props.t2(qubit)"
   ]
  },
  {
   "cell_type": "code",
   "execution_count": null,
   "metadata": {},
   "outputs": [],
   "source": [
    "t1"
   ]
  },
  {
   "cell_type": "code",
   "execution_count": null,
   "metadata": {},
   "outputs": [],
   "source": [
    "gamma1=(1/t1)/GHz\n",
    "gamma2=(1/t2)/GHz"
   ]
  },
  {
   "cell_type": "code",
   "execution_count": null,
   "metadata": {},
   "outputs": [],
   "source": [
    "gamma1"
   ]
  },
  {
   "cell_type": "code",
   "execution_count": null,
   "metadata": {},
   "outputs": [],
   "source": [
    "L0 = liouvillian(H0,[np.sqrt(gamma1)*Sm])"
   ]
  },
  {
   "cell_type": "code",
   "execution_count": null,
   "metadata": {},
   "outputs": [],
   "source": [
    "#sigma X control\n",
    "LC_x = liouvillian(Sx)\n",
    "#sigma Y control\n",
    "LC_y = liouvillian(Sy)\n",
    "#sigma Z control\n",
    "LC_z = liouvillian(Sz)\n",
    "\n",
    "#Drift\n",
    "drift = L0\n",
    "#Controls - different combinations can be tried\n",
    "ctrls = [LC_x, LC_y, LC_z]\n",
    "# Number of ctrls\n",
    "n_ctrls = len(ctrls)\n",
    "\n",
    "# start point for the map evolution\n",
    "E0 = sprepost(Si, Si)\n",
    "\n",
    "# target for map evolution\n",
    "E_targ = sprepost(sx_gate, sx_gate)"
   ]
  },
  {
   "cell_type": "code",
   "execution_count": 13,
   "metadata": {},
   "outputs": [
    {
     "name": "stderr",
     "output_type": "stream",
     "text": [
      "/Users/elishasiddiqui/.conda/envs/qutip_clone_test/lib/python3.8/site-packages/ipykernel/ipkernel.py:287: DeprecationWarning: `should_run_async` will not call `transform_cell` automatically in the future. Please pass the result to `transformed_cell` argument and any exception that happen during thetransform in `preprocessing_exc_tuple` in IPython 7.17 and above.\n",
      "  and should_run_async(code)\n",
      "INFO:qutip.control.dynamics:Setting memory optimisations for level 0\n",
      "INFO:qutip.control.dynamics:Internal operator data type choosen to be <class 'numpy.ndarray'>\n",
      "INFO:qutip.control.dynamics:phased dynamics generator caching True\n",
      "INFO:qutip.control.dynamics:propagator gradient caching True\n",
      "INFO:qutip.control.dynamics:eigenvector adjoint caching True\n",
      "INFO:qutip.control.dynamics:use sparse eigen decomp False\n",
      "INFO:qutip.control.pulseoptim:System configuration:\n",
      "Drift Hamiltonian:\n",
      "Quantum object: dims = [[2], [2]], shape = (2, 2), type = oper, isherm = True\n",
      "Qobj data =\n",
      "[[ 2.39145141  0.        ]\n",
      " [ 0.         -2.39145141]]\n",
      "Control 1 Hamiltonian:\n",
      "Quantum object: dims = [[2], [2]], shape = (2, 2), type = oper, isherm = True\n",
      "Qobj data =\n",
      "[[0. 1.]\n",
      " [1. 0.]]\n",
      "Initial state / operator:\n",
      "Quantum object: dims = [[2], [2]], shape = (2, 2), type = oper, isherm = True\n",
      "Qobj data =\n",
      "[[1. 0.]\n",
      " [0. 1.]]\n",
      "Target state / operator:\n",
      "Quantum object: dims = [[2], [2]], shape = (2, 2), type = oper, isherm = False\n",
      "Qobj data =\n",
      "[[0.5+0.5j 0.5-0.5j]\n",
      " [0.5-0.5j 0.5+0.5j]]\n",
      "INFO:qutip.control.optimizer:Optimising pulse(s) using GRAPE with 'fmin_l_bfgs_b' method\n"
     ]
    },
    {
     "name": "stdout",
     "output_type": "stream",
     "text": [
      "\n",
      "------------------------------------\n",
      "---- Control optimisation stats ----\n",
      "**** Timings (HH:MM:SS.US) ****\n",
      "Total wall time elapsed during optimisation: 0:00:00.812533\n",
      "Wall time computing Hamiltonians: 0:00:00.027054 (3.33%)\n",
      "Wall time computing propagators: 0:00:00.583922 (71.86%)\n",
      "Wall time computing forward propagation: 0:00:00.006924 (0.85%)\n",
      "Wall time computing onward propagation: 0:00:00.006830 (0.84%)\n",
      "Wall time computing gradient: 0:00:00.041554 (5.11%)\n",
      "\n",
      "**** Iterations and function calls ****\n",
      "Number of iterations: 4\n",
      "Number of fidelity function calls: 10\n",
      "Number of times fidelity is computed: 10\n",
      "Number of gradient function calls: 9\n",
      "Number of times gradients are computed: 9\n",
      "Number of times timeslot evolution is recomputed: 10\n",
      "\n",
      "**** Control amplitudes ****\n",
      "Number of control amplitude updates: 9\n",
      "Mean number of updates per iteration: 2.25\n",
      "Number of timeslot values changed: 6289\n",
      "Mean number of timeslot changes per update: 698.7777777777778\n",
      "Number of amplitude values changed: 6289\n",
      "Mean number of amplitude changes per update: 698.7777777777778\n",
      "------------------------------------\n",
      "Final evolution\n",
      "Quantum object: dims = [[2], [2]], shape = (2, 2), type = oper, isherm = False\n",
      "Qobj data =\n",
      "[[ 7.13777361e-01+0.02219197j  1.55316977e-04-0.70002098j]\n",
      " [-1.55316977e-04-0.70002098j  7.13777361e-01-0.02219197j]]\n",
      "\n",
      "********* Summary *****************\n",
      "Initial fidelity error 0.6545008064969349\n",
      "Final fidelity error 0.0002936063756778795\n",
      "Final gradient normal 0.33196698333666724\n",
      "Terminated due to Goal achieved\n",
      "Number of iterations 4\n",
      "Completed in 0:00:00.812533 HH:MM:SS.US\n"
     ]
    }
   ],
   "source": [
    "# Time allowed for the evolution\n",
    "evo_time = 160\n",
    "# Number of time slots\n",
    "n_ts = int(float(evo_time/0.222))\n",
    "# Fidelity error target\n",
    "fid_err_targ = 1e-3\n",
    "# Maximum iterations for the optisation algorithm\n",
    "max_iter = 1000\n",
    "# Maximum (elapsed) time allowed in seconds\n",
    "max_wall_time = 300\n",
    "# Minimum gradient (sum of gradients squared)\n",
    "# as this tends to 0 -> local minima has been found\n",
    "min_grad = 1e-20\n",
    "p_type = 'DRAG'\n",
    "#Run optimization\n",
    "#result = cpo.optimize_pulse(drift, ctrls, E0, E_targ, n_ts, evo_time,amp_lbound=0, amp_ubound=1, \n",
    "#                fid_err_targ=fid_err_targ, min_grad=min_grad, \n",
    "#                max_iter=max_iter, max_wall_time=max_wall_time, \n",
    "#                out_file_ext=None, init_pulse_type=p_type, \n",
    "#                log_level=log_level, gen_stats=True)\n",
    "result=cpo.optimize_pulse_unitary(H0, Hc, Si, sx_gate, n_ts, evo_time,\n",
    "                             amp_lbound=0,amp_ubound=1,\n",
    "                fid_err_targ=fid_err_targ, min_grad=min_grad, \n",
    "                max_iter=max_iter, max_wall_time=max_wall_time, \n",
    "                out_file_ext=None, init_pulse_type=p_type, \n",
    "                log_level=log_level, gen_stats=True)\n",
    "result.stats.report()\n",
    "print(\"Final evolution\\n{}\\n\".format(result.evo_full_final))\n",
    "print(\"********* Summary *****************\")\n",
    "print(\"Initial fidelity error {}\".format(result.initial_fid_err))\n",
    "print(\"Final fidelity error {}\".format(result.fid_err))\n",
    "print(\"Final gradient normal {}\".format(result.grad_norm_final))\n",
    "print(\"Terminated due to {}\".format(result.termination_reason))\n",
    "print(\"Number of iterations {}\".format(result.num_iter))\n",
    "print(\"Completed in {} HH:MM:SS.US\".format(datetime.timedelta(seconds=result.wall_time)))"
   ]
  },
  {
   "cell_type": "markdown",
   "metadata": {},
   "source": [
    "# Qiskit part"
   ]
  },
  {
   "cell_type": "code",
   "execution_count": 14,
   "metadata": {},
   "outputs": [
    {
     "name": "stderr",
     "output_type": "stream",
     "text": [
      "/Users/elishasiddiqui/.conda/envs/qutip_clone_test/lib/python3.8/site-packages/ipykernel/ipkernel.py:287: DeprecationWarning: `should_run_async` will not call `transform_cell` automatically in the future. Please pass the result to `transformed_cell` argument and any exception that happen during thetransform in `preprocessing_exc_tuple` in IPython 7.17 and above.\n",
      "  and should_run_async(code)\n"
     ]
    }
   ],
   "source": [
    "x = result.final_amps.T[0]\n",
    "#y = result.final_amps.T[1]\n",
    "#z = result.final_amps.T[2]"
   ]
  },
  {
   "cell_type": "code",
   "execution_count": 15,
   "metadata": {},
   "outputs": [
    {
     "name": "stderr",
     "output_type": "stream",
     "text": [
      "/Users/elishasiddiqui/.conda/envs/qutip_clone_test/lib/python3.8/site-packages/ipykernel/ipkernel.py:287: DeprecationWarning: `should_run_async` will not call `transform_cell` automatically in the future. Please pass the result to `transformed_cell` argument and any exception that happen during thetransform in `preprocessing_exc_tuple` in IPython 7.17 and above.\n",
      "  and should_run_async(code)\n"
     ]
    }
   ],
   "source": [
    "from qiskit.pulse import (Acquire, AcquireChannel, ControlChannel, Delay, \n",
    "                          DriveChannel, MeasureChannel, MemorySlot, Play,\n",
    "                          Schedule, ShiftPhase, Waveform,build)"
   ]
  },
  {
   "cell_type": "code",
   "execution_count": 16,
   "metadata": {},
   "outputs": [
    {
     "name": "stderr",
     "output_type": "stream",
     "text": [
      "/Users/elishasiddiqui/.conda/envs/qutip_clone_test/lib/python3.8/site-packages/ipykernel/ipkernel.py:287: DeprecationWarning: `should_run_async` will not call `transform_cell` automatically in the future. Please pass the result to `transformed_cell` argument and any exception that happen during thetransform in `preprocessing_exc_tuple` in IPython 7.17 and above.\n",
      "  and should_run_async(code)\n"
     ]
    }
   ],
   "source": [
    "def get_closest_multiple_of_16(num):\n",
    "    return int(num + 8 ) - (int(num + 8 ) % 16)    "
   ]
  },
  {
   "cell_type": "code",
   "execution_count": 17,
   "metadata": {},
   "outputs": [
    {
     "name": "stderr",
     "output_type": "stream",
     "text": [
      "/Users/elishasiddiqui/.conda/envs/qutip_clone_test/lib/python3.8/site-packages/ipykernel/ipkernel.py:287: DeprecationWarning: `should_run_async` will not call `transform_cell` automatically in the future. Please pass the result to `transformed_cell` argument and any exception that happen during thetransform in `preprocessing_exc_tuple` in IPython 7.17 and above.\n",
      "  and should_run_async(code)\n"
     ]
    }
   ],
   "source": [
    "Ncx = get_closest_multiple_of_16(len(x))\n",
    "#Ncy = get_closest_multiple_of_16(len(y))\n",
    "#Ncz = get_closest_multiple_of_16(len(z))\n",
    "\n",
    "padded_pulsex = [0 for i in range(Ncx+16)]\n",
    "#padded_pulsey = [0 for i in range(Ncy+16)]\n",
    "#padded_pulsez = [0 for i in range(Ncz+16)]\n",
    "\n",
    "#padded_pulsey[0:len(y)] = y\n",
    "padded_pulsex[0:len(x)] = x\n",
    "#padded_pulsez[0:len(z)] = z\n",
    "\n",
    "with build(name='sx') as sx_q0:\n",
    "    pulse.play(Waveform(padded_pulsex),DriveChannel(qubit))\n",
    "    #pulse.play(Waveform(padded_pulsey),DriveChannel(qubit))\n",
    "    #pulse.play(Waveform(padded_pulsez),DriveChannel(qubit))\n",
    "    "
   ]
  },
  {
   "cell_type": "code",
   "execution_count": 18,
   "metadata": {},
   "outputs": [
    {
     "name": "stderr",
     "output_type": "stream",
     "text": [
      "/Users/elishasiddiqui/.conda/envs/qutip_clone_test/lib/python3.8/site-packages/ipykernel/ipkernel.py:287: DeprecationWarning: `should_run_async` will not call `transform_cell` automatically in the future. Please pass the result to `transformed_cell` argument and any exception that happen during thetransform in `preprocessing_exc_tuple` in IPython 7.17 and above.\n",
      "  and should_run_async(code)\n"
     ]
    }
   ],
   "source": [
    "cals = backend.defaults().instruction_schedule_map\n",
    "basis_gates = backend_config.basis_gates\n",
    "basis_gates += ['my_1q']\n",
    "cals.add('my_1q',(qubit),sx_q0)"
   ]
  },
  {
   "cell_type": "code",
   "execution_count": 19,
   "metadata": {},
   "outputs": [
    {
     "name": "stderr",
     "output_type": "stream",
     "text": [
      "/Users/elishasiddiqui/.conda/envs/qutip_clone_test/lib/python3.8/site-packages/ipykernel/ipkernel.py:287: DeprecationWarning: `should_run_async` will not call `transform_cell` automatically in the future. Please pass the result to `transformed_cell` argument and any exception that happen during thetransform in `preprocessing_exc_tuple` in IPython 7.17 and above.\n",
      "  and should_run_async(code)\n"
     ]
    }
   ],
   "source": [
    "from qiskit.circuit import Gate\n",
    "sx1 = Gate('my_1q',num_qubits=1,params=[])\n"
   ]
  },
  {
   "cell_type": "code",
   "execution_count": 20,
   "metadata": {},
   "outputs": [
    {
     "name": "stderr",
     "output_type": "stream",
     "text": [
      "/Users/elishasiddiqui/.conda/envs/qutip_clone_test/lib/python3.8/site-packages/ipykernel/ipkernel.py:287: DeprecationWarning: `should_run_async` will not call `transform_cell` automatically in the future. Please pass the result to `transformed_cell` argument and any exception that happen during thetransform in `preprocessing_exc_tuple` in IPython 7.17 and above.\n",
      "  and should_run_async(code)\n"
     ]
    },
    {
     "data": {
      "image/png": "[encoded data removed]",
      "text/plain": [
       "<Figure size 936x118.8 with 1 Axes>"
      ]
     },
     "execution_count": 20,
     "metadata": {},
     "output_type": "execute_result"
    }
   ],
   "source": [
    "cals.get('my_1q',[qubit]).draw()"
   ]
  },
  {
   "cell_type": "markdown",
   "metadata": {},
   "source": [
    "# Error Mitigation"
   ]
  },
  {
   "cell_type": "code",
   "execution_count": null,
   "metadata": {},
   "outputs": [],
   "source": [
    "# Import measurement calibration functions\n",
    "from qiskit.ignis.mitigation.measurement import (complete_meas_cal, tensored_meas_cal,\n",
    "                                                 CompleteMeasFitter, TensoredMeasFitter)"
   ]
  },
  {
   "cell_type": "code",
   "execution_count": null,
   "metadata": {},
   "outputs": [],
   "source": [
    "qr = QuantumRegister(1)\n",
    "qubit_list=[0]\n",
    "meas_calibs, state_labels = complete_meas_cal(qubit_list=qubit_list, qr=qr, circlabel='mcal')"
   ]
  },
  {
   "cell_type": "code",
   "execution_count": null,
   "metadata": {},
   "outputs": [],
   "source": [
    "t_qc = transpile(meas_calibs,backend)"
   ]
  },
  {
   "cell_type": "code",
   "execution_count": null,
   "metadata": {},
   "outputs": [],
   "source": [
    "job = qiskit.execute(meas_calibs, backend=backend, shots=1000)\n",
    "cal_results = job.result()"
   ]
  },
  {
   "cell_type": "code",
   "execution_count": null,
   "metadata": {},
   "outputs": [],
   "source": [
    "# The calibration matrix without noise is the identity matrix\n",
    "meas_fitter = CompleteMeasFitter(cal_results, state_labels, circlabel='mcal')\n",
    "print(meas_fitter.cal_matrix)"
   ]
  },
  {
   "cell_type": "code",
   "execution_count": 22,
   "metadata": {},
   "outputs": [
    {
     "name": "stderr",
     "output_type": "stream",
     "text": [
      "/Users/elishasiddiqui/.conda/envs/qutip_clone_test/lib/python3.8/site-packages/ipykernel/ipkernel.py:287: DeprecationWarning: `should_run_async` will not call `transform_cell` automatically in the future. Please pass the result to `transformed_cell` argument and any exception that happen during thetransform in `preprocessing_exc_tuple` in IPython 7.17 and above.\n",
      "  and should_run_async(code)\n"
     ]
    },
    {
     "data": {
      "text/html": [
       "<pre style=\"word-wrap: normal;white-space: pre;background: #fff0;line-height: 1.1;font-family: &quot;Courier New&quot;,Courier,monospace\">                              \n",
       "q1_0: ────────────────────────\n",
       "                              \n",
       "q1_1: ────────────────────────\n",
       "      ┌───────┐┌──────────┐┌─┐\n",
       "q1_2: ┤ my_1q ├┤ RZ(-π/4) ├┤M├\n",
       "      └───────┘└──────────┘└╥┘\n",
       "c1: 3/══════════════════════╩═\n",
       "                            0 </pre>"
      ],
      "text/plain": [
       "                              \n",
       "q1_0: ────────────────────────\n",
       "                              \n",
       "q1_1: ────────────────────────\n",
       "      ┌───────┐┌──────────┐┌─┐\n",
       "q1_2: ┤ my_1q ├┤ RZ(-π/4) ├┤M├\n",
       "      └───────┘└──────────┘└╥┘\n",
       "c1: 3/══════════════════════╩═\n",
       "                            0 "
      ]
     },
     "execution_count": 22,
     "metadata": {},
     "output_type": "execute_result"
    }
   ],
   "source": [
    "qr = QuantumRegister(3)\n",
    "cr = qiskit.ClassicalRegister(3)\n",
    "circ = QuantumCircuit(qr,cr)\n",
    "circ.append(sx1,[qubit])\n",
    "circ.rz(-np.pi/4,2)\n",
    "circ.measure(qr[qubit],cr[0])\n",
    "circ.draw()"
   ]
  },
  {
   "cell_type": "code",
   "execution_count": 23,
   "metadata": {},
   "outputs": [
    {
     "name": "stderr",
     "output_type": "stream",
     "text": [
      "/Users/elishasiddiqui/.conda/envs/qutip_clone_test/lib/python3.8/site-packages/ipykernel/ipkernel.py:287: DeprecationWarning: `should_run_async` will not call `transform_cell` automatically in the future. Please pass the result to `transformed_cell` argument and any exception that happen during thetransform in `preprocessing_exc_tuple` in IPython 7.17 and above.\n",
      "  and should_run_async(code)\n"
     ]
    }
   ],
   "source": [
    "dt = backend.configuration().dt\n",
    "from qiskit import transpile, schedule as build_schedule\n",
    "tcirc = transpile(circ,backend,basis_gates)\n",
    "schedule1 = schedule(tcirc, backend, inst_map=cals)"
   ]
  },
  {
   "cell_type": "code",
   "execution_count": 24,
   "metadata": {},
   "outputs": [
    {
     "name": "stderr",
     "output_type": "stream",
     "text": [
      "/Users/elishasiddiqui/.conda/envs/qutip_clone_test/lib/python3.8/site-packages/ipykernel/ipkernel.py:287: DeprecationWarning: `should_run_async` will not call `transform_cell` automatically in the future. Please pass the result to `transformed_cell` argument and any exception that happen during thetransform in `preprocessing_exc_tuple` in IPython 7.17 and above.\n",
      "  and should_run_async(code)\n"
     ]
    },
    {
     "data": {
      "image/png": "[encoded data removed]",
      "text/plain": [
       "<Figure size 936x268.837 with 1 Axes>"
      ]
     },
     "execution_count": 24,
     "metadata": {},
     "output_type": "execute_result"
    }
   ],
   "source": [
    "schedule1.draw()"
   ]
  },
  {
   "cell_type": "code",
   "execution_count": 25,
   "metadata": {},
   "outputs": [
    {
     "name": "stderr",
     "output_type": "stream",
     "text": [
      "/Users/elishasiddiqui/.conda/envs/qutip_clone_test/lib/python3.8/site-packages/ipykernel/ipkernel.py:287: DeprecationWarning: `should_run_async` will not call `transform_cell` automatically in the future. Please pass the result to `transformed_cell` argument and any exception that happen during thetransform in `preprocessing_exc_tuple` in IPython 7.17 and above.\n",
      "  and should_run_async(code)\n"
     ]
    }
   ],
   "source": [
    "from qiskit import execute\n",
    "from qiskit.tools.monitor import job_monitor"
   ]
  },
  {
   "cell_type": "code",
   "execution_count": 26,
   "metadata": {
    "scrolled": true
   },
   "outputs": [
    {
     "name": "stderr",
     "output_type": "stream",
     "text": [
      "/Users/elishasiddiqui/.conda/envs/qutip_clone_test/lib/python3.8/site-packages/ipykernel/ipkernel.py:287: DeprecationWarning: `should_run_async` will not call `transform_cell` automatically in the future. Please pass the result to `transformed_cell` argument and any exception that happen during thetransform in `preprocessing_exc_tuple` in IPython 7.17 and above.\n",
      "  and should_run_async(code)\n",
      "/Users/elishasiddiqui/.conda/envs/qutip_clone_test/lib/python3.8/site-packages/ipywidgets/widgets/widget_layout.py:84: DeprecationWarning: Layout properties overflow_x and overflow_y have been deprecated and will be dropped in a future release. Please use the overflow shorthand property instead\n",
      "  warnings.warn(\"Layout properties overflow_x and overflow_y have been deprecated and will be dropped in a future release. Please use the overflow shorthand property instead\", DeprecationWarning)\n"
     ]
    }
   ],
   "source": [
    "sx_job = execute([schedule1],backend,meas_level=2,shots=1048).result()"
   ]
  },
  {
   "cell_type": "code",
   "execution_count": 27,
   "metadata": {},
   "outputs": [
    {
     "name": "stderr",
     "output_type": "stream",
     "text": [
      "/Users/elishasiddiqui/.conda/envs/qutip_clone_test/lib/python3.8/site-packages/ipykernel/ipkernel.py:287: DeprecationWarning: `should_run_async` will not call `transform_cell` automatically in the future. Please pass the result to `transformed_cell` argument and any exception that happen during thetransform in `preprocessing_exc_tuple` in IPython 7.17 and above.\n",
      "  and should_run_async(code)\n"
     ]
    }
   ],
   "source": [
    "# Results without mitigation\n",
    "raw_counts = sx_job.get_counts()\n",
    "\n"
   ]
  },
  {
   "cell_type": "code",
   "execution_count": 28,
   "metadata": {},
   "outputs": [
    {
     "name": "stderr",
     "output_type": "stream",
     "text": [
      "/Users/elishasiddiqui/.conda/envs/qutip_clone_test/lib/python3.8/site-packages/ipykernel/ipkernel.py:287: DeprecationWarning: `should_run_async` will not call `transform_cell` automatically in the future. Please pass the result to `transformed_cell` argument and any exception that happen during thetransform in `preprocessing_exc_tuple` in IPython 7.17 and above.\n",
      "  and should_run_async(code)\n"
     ]
    },
    {
     "data": {
      "image/png": "[encoded data removed]",
      "text/plain": [
       "<Figure size 504x360 with 1 Axes>"
      ]
     },
     "execution_count": 28,
     "metadata": {},
     "output_type": "execute_result"
    }
   ],
   "source": [
    "from qiskit.result.utils import marginal_counts\n",
    "from qiskit.visualization import plot_histogram\n",
    "plot_histogram(marginal_counts(raw_counts, [0,0], format_marginal=True))"
   ]
  },
  {
   "cell_type": "code",
   "execution_count": null,
   "metadata": {},
   "outputs": [],
   "source": [
    "# Get the filter object\n",
    "#build a fitter from the subset\n",
    "meas_fitter_sub = meas_fitter.subset_fitter(qubit_sublist=[qubit])"
   ]
  },
  {
   "cell_type": "code",
   "execution_count": null,
   "metadata": {},
   "outputs": [],
   "source": [
    "meas_filter_sub = meas_fitter_sub.filter\n",
    "\n",
    "\n",
    "# Results with mitigation\n",
    "mitigated_results = meas_filter_sub.apply(sx_job)\n",
    "mitigated_counts = mitigated_results.get_counts(0)"
   ]
  },
  {
   "cell_type": "code",
   "execution_count": null,
   "metadata": {},
   "outputs": [],
   "source": [
    "from qiskit.result.utils import marginal_counts\n",
    "from qiskit.visualization import plot_histogram\n",
    "plot_histogram([marginal_counts(raw_counts,[0,0]), marginal_counts(mitigated_counts,[0,0])], legend=['raw', 'mitigated'])"
   ]
  },
  {
   "cell_type": "code",
   "execution_count": null,
   "metadata": {},
   "outputs": [],
   "source": [
    "#from qiskit.result.utils import marginal_counts\n",
    "#from qiskit.visualization import plot_histogram\n",
    "#plot_histogram(marginal_counts(had_job.get_counts(), [0,0], format_marginal=True))"
   ]
  },
  {
   "cell_type": "code",
   "execution_count": null,
   "metadata": {},
   "outputs": [],
   "source": [
    "import qiskit\n",
    "qiskit.__qiskit_version__"
   ]
  },
  {
   "cell_type": "code",
   "execution_count": null,
   "metadata": {},
   "outputs": [],
   "source": []
  }
 ],
 "metadata": {
  "kernelspec": {
   "display_name": "Python 3",
   "language": "python",
   "name": "python3"
  },
  "language_info": {
   "codemirror_mode": {
    "name": "ipython",
    "version": 3
   },
   "file_extension": ".py",
   "mimetype": "text/x-python",
   "name": "python",
   "nbconvert_exporter": "python",
   "pygments_lexer": "ipython3",
   "version": "3.8.5"
  }
 },
 "nbformat": 4,
 "nbformat_minor": 4
}
